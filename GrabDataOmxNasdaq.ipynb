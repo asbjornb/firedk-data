{
 "cells": [
  {
   "cell_type": "markdown",
   "metadata": {},
   "source": [
    "Check that working directory is as expected:"
   ]
  },
  {
   "cell_type": "code",
   "execution_count": 1,
   "metadata": {},
   "outputs": [
    {
     "name": "stdout",
     "output_type": "stream",
     "text": [
      "current directory is : D:\\projects\n",
      "Directory name is : projects\n"
     ]
    }
   ],
   "source": [
    "import os\n",
    " \n",
    "dirpath = os.getcwd()\n",
    "print(\"current directory is : \" + dirpath)\n",
    "foldername = os.path.basename(dirpath)\n",
    "print(\"Directory name is : \" + foldername)"
   ]
  },
  {
   "cell_type": "markdown",
   "metadata": {},
   "source": [
    "Make sure to use dedicated virtual environment:"
   ]
  },
  {
   "cell_type": "code",
   "execution_count": 3,
   "metadata": {},
   "outputs": [
    {
     "name": "stdout",
     "output_type": "stream",
     "text": [
      "0\n"
     ]
    }
   ],
   "source": [
    "import subprocess\n",
    "\n",
    "filepath=\"D:/projects/venv001/Scripts/activate.bat\"\n",
    "p = subprocess.Popen(filepath, shell=True, stdout = subprocess.PIPE)\n",
    "\n",
    "stdout, stderr = p.communicate()\n",
    "print(p.returncode) # is 0 if success"
   ]
  },
  {
   "cell_type": "markdown",
   "metadata": {},
   "source": [
    "Get data from Nasdaq Omx"
   ]
  },
  {
   "cell_type": "code",
   "execution_count": 5,
   "metadata": {},
   "outputs": [
    {
     "name": "stdout",
     "output_type": "stream",
     "text": [
      "200\n"
     ]
    }
   ],
   "source": [
    "import requests\n",
    "url = 'http://www.nasdaqomxnordic.com/webproxy'\n",
    "method = \"/DataFeedProxy.aspx?\"\n",
    "params = \"SubSystem=History&Action=GetChartData&inst.an=id%2Cnm%2Cfnm%2Cisin%2Ctp%2Cchp%2Cycp&FromDate=2020-03-27&ToDate=2020-04-27&json=true&timezone=CET&showAdjusted=true&app=%2Fshares%2Fhistoricalprices-HistoryChart&DefaultDecimals=false&Instrument=CSE3200\"\n",
    "headers = {'User-Agent': 'Mozilla/5.0 (Windows NT 10.0; Win64; x64; rv:63.0) Gecko/20100101 Firefox/63.0', 'Accept': 'application/json, text/javascript, */*; q=0.01', 'X-Requested-With': 'XMLHttpRequest'}\n",
    "r = requests.get(url+method+params, headers=headers)\n",
    "#print(r.url)\n",
    "print(r.status_code)\n",
    "r.status_code == requests.codes.ok"
   ]
  },
  {
   "cell_type": "code",
   "execution_count": 17,
   "metadata": {},
   "outputs": [
    {
     "name": "stdout",
     "output_type": "stream",
     "text": [
      "200\n",
      "ï»¿<!DOCTYPE html PUBLIC \"-//W3C//DTD XHTML 1.0 Transitional//EN\" \"http://www.w3.org/TR/xhtml1/DTD/xhtml1-transitional.dtd\">\r\n",
      "<html xmlns=\"http://www.w3.org/1999/xhtml\">\r\n",
      "<head>\r\n",
      "    <title></title>\r\n",
      "</head>\r\n",
      "<body>\r\n",
      "<!-- DataFeedProxyErr500 //-->\r\n",
      "</body>\r\n",
      "</html>\r\n",
      "\n"
     ]
    }
   ],
   "source": [
    "url2 = 'http://www.nasdaqomxnordic.com/webproxy/DataFeedProxy.aspx'\n",
    "headers2 = {'User-Agent': 'Mozilla/5.0 (Windows NT 10.0; Win64; x64; rv:63.0) Gecko/20100101 Firefox/63.0', 'Content-Type': 'application/x-www-form-urlencoded', 'charset': 'UTF-8', 'Accept': 'application/json, text/javascript, */*; q=0.01', 'X-Requested-With': 'XMLHttpRequest'}\n",
    "xmlquery = '''<post>\n",
    "<param name=\"SubSystem\" value=\"History\"/>\n",
    "<param name=\"Action\" value=\"GetDataSeries\"/>\n",
    "<param name=\"Exchange\" value=\"NMF\"/>\n",
    "<param name=\"AppendIntraDay\" value=\"no\"/>\n",
    "<param name=\"FromDate\" value=\"2020-03-27\"/>\n",
    "<param name=\"ToDate\" value=\"2020-04-27\"/>\n",
    "<param name=\"Instrument\" value=\"CSE3200\"/>\n",
    "<param name=\"hi__a\" value=\"0,5,6,3,1,2,4,21,8,10,12,9,11\"/>\n",
    "<param name=\"OmitNoTrade\" value=\"true\"/>\n",
    "<param name=\"ext_xslt_lang\" value=\"en\"/>\n",
    "<param name=\"ext_xslt\" value=\"hi_csv.xsl\"/>\n",
    "<param name=\"ext_xslt_options\" value=\",adjusted,\"/>\n",
    "<param name=\"ext_contenttype\" value=\"application/ms-excel\"/>\n",
    "<param name=\"ext_contenttypefilename\" value=\"Maersk2020.csv\"/>\n",
    "<param name=\"ext_xslt_hiddenattrs\" value=\",iv,ip,\"/>\n",
    "<param name=\"ext_xslt_tableId\" value=\"historicalTable\"/>\n",
    "<param name=\"DefaultDecimals\" value=\"false\"/>\n",
    "</post>'''\n",
    "\n",
    "r2 = requests.post(url2, data = {'xmlquery': xmlquery}, headers=headers2)\n",
    "print(r2.status_code)\n",
    "#r2.status_code == requests.codes.ok\n",
    "print(r2.text)"
   ]
  },
  {
   "cell_type": "code",
   "execution_count": 9,
   "metadata": {},
   "outputs": [
    {
     "name": "stdout",
     "output_type": "stream",
     "text": [
      "{\n",
      "  \"@status\": \"1\",\n",
      "  \"@ts\": \"1588110611922\",\n",
      "  \"data\": [\n",
      "    {\n",
      "      \"instData\": {\n",
      "        \"@id\": \"CSE3200\",\n",
      "        \"@nm\": \"MAERSK A\",\n",
      "        \"@fnm\": \"A.P. Møller - Mærsk A\",\n",
      "        \"@isin\": \"DK0010244425\",\n",
      "        \"@tp\": \"S\",\n",
      "        \"@chp\": \"1.405\",\n",
      "        \"@ycp\": \"6050.0\"\n",
      "      },\n",
      "      \"chartData\": {\n",
      "        \"cp\": [\n",
      "          [\n",
      "            1585267200000,\n",
      "            5515.0\n",
      "          ],\n",
      "          [\n",
      "            1585526400000,\n",
      "            5420.0\n",
      "          ],\n",
      "          [\n",
      "            1585612800000,\n",
      "            5635.0\n",
      "          ],\n",
      "          [\n",
      "            1585699200000,\n",
      "            5575.0\n",
      "          ],\n",
      "          [\n",
      "            1585785600000,\n",
      "            5435.0\n",
      "          ],\n",
      "          [\n",
      "            1585872000000,\n",
      "            5385.0\n",
      "          ],\n",
      "          [\n",
      "            1586131200000,\n",
      "            5900.0\n",
      "          ],\n",
      "          [\n",
      "            1586217600000,\n",
      "            6195.0\n",
      "          ],\n",
      "          [\n",
      "            1586304000000,\n",
      "            6025.0\n",
      "          ],\n",
      "          [\n",
      "            1586822400000,\n",
      "            6130.0\n",
      "          ],\n",
      "          [\n",
      "            1586908800000,\n",
      "            5780.0\n",
      "          ],\n",
      "          [\n",
      "            1586995200000,\n",
      "            5935.0\n",
      "          ],\n",
      "          [\n",
      "            1587081600000,\n",
      "            6235.0\n",
      "          ],\n",
      "          [\n",
      "            1587340800000,\n",
      "            6130.0\n",
      "          ],\n",
      "          [\n",
      "            1587427200000,\n",
      "            5950.0\n",
      "          ],\n",
      "          [\n",
      "            1587513600000,\n",
      "            6170.0\n",
      "          ],\n",
      "          [\n",
      "            1587600000000,\n",
      "            6035.0\n",
      "          ],\n",
      "          [\n",
      "            1587686400000,\n",
      "            6000.0\n",
      "          ],\n",
      "          [\n",
      "            1587945600000,\n",
      "            6050.0\n",
      "          ]\n",
      "        ]\n",
      "      }\n",
      "    }\n",
      "  ]\n",
      "}\n"
     ]
    }
   ],
   "source": [
    "print(r.text)"
   ]
  },
  {
   "cell_type": "code",
   "execution_count": null,
   "metadata": {},
   "outputs": [],
   "source": []
  }
 ],
 "metadata": {
  "kernelspec": {
   "display_name": "Python 3",
   "language": "python",
   "name": "python3"
  },
  "language_info": {
   "codemirror_mode": {
    "name": "ipython",
    "version": 3
   },
   "file_extension": ".py",
   "mimetype": "text/x-python",
   "name": "python",
   "nbconvert_exporter": "python",
   "pygments_lexer": "ipython3",
   "version": "3.7.2"
  }
 },
 "nbformat": 4,
 "nbformat_minor": 4
}
